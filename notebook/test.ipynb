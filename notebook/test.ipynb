{
 "cells": [
  {
   "cell_type": "code",
   "execution_count": 47,
   "metadata": {},
   "outputs": [],
   "source": [
    "import pandas as pd\n",
    "import json"
   ]
  },
  {
   "cell_type": "code",
   "execution_count": 48,
   "metadata": {},
   "outputs": [],
   "source": [
    "df_skill_l2_dict = {\n",
    "    'Cloud' : \"None\",\n",
    "    'Data' : \"None\",\n",
    "    'Software Dev' : \"None\",\n",
    "}"
   ]
  },
  {
   "cell_type": "code",
   "execution_count": 49,
   "metadata": {},
   "outputs": [
    {
     "data": {
      "text/html": [
       "<div>\n",
       "<style scoped>\n",
       "    .dataframe tbody tr th:only-of-type {\n",
       "        vertical-align: middle;\n",
       "    }\n",
       "\n",
       "    .dataframe tbody tr th {\n",
       "        vertical-align: top;\n",
       "    }\n",
       "\n",
       "    .dataframe thead th {\n",
       "        text-align: right;\n",
       "    }\n",
       "</style>\n",
       "<table border=\"1\" class=\"dataframe\">\n",
       "  <thead>\n",
       "    <tr style=\"text-align: right;\">\n",
       "      <th></th>\n",
       "      <th>skill_name</th>\n",
       "      <th>skill_group_name</th>\n",
       "    </tr>\n",
       "  </thead>\n",
       "  <tbody>\n",
       "    <tr>\n",
       "      <th>0</th>\n",
       "      <td>Cloud</td>\n",
       "      <td>None</td>\n",
       "    </tr>\n",
       "    <tr>\n",
       "      <th>1</th>\n",
       "      <td>Data</td>\n",
       "      <td>None</td>\n",
       "    </tr>\n",
       "    <tr>\n",
       "      <th>2</th>\n",
       "      <td>Software Dev</td>\n",
       "      <td>None</td>\n",
       "    </tr>\n",
       "  </tbody>\n",
       "</table>\n",
       "</div>"
      ],
      "text/plain": [
       "     skill_name skill_group_name\n",
       "0         Cloud             None\n",
       "1          Data             None\n",
       "2  Software Dev             None"
      ]
     },
     "execution_count": 49,
     "metadata": {},
     "output_type": "execute_result"
    }
   ],
   "source": [
    "df_skill_l2 = \\\n",
    "  pd.DataFrame.from_dict(df_skill_l2_dict, orient='index').reset_index().rename(columns={'index':'skill_name', 0:'skill_group_name'})\n",
    "df_skill_l2"
   ]
  },
  {
   "cell_type": "code",
   "execution_count": 50,
   "metadata": {},
   "outputs": [],
   "source": [
    "df_skill_l3_dict = {\n",
    "    'Java' : \"Software Dev\",\n",
    "    '.NET' : \"Software Dev\",\n",
    "    'NodeJS' : \"Software Dev\",\n",
    "    \"Spark\" : \"Data\",    \n",
    "    \"Hadoop\" : \"Data\",    \n",
    "    \"Power BI\" : \"Data\",       \n",
    "    \"AWS\" : \"Cloud\",\n",
    "    \"Azure\" : \"Cloud\",\n",
    "    \"GCP\" : \"Cloud\"\n",
    "}"
   ]
  },
  {
   "cell_type": "code",
   "execution_count": 51,
   "metadata": {},
   "outputs": [
    {
     "data": {
      "text/html": [
       "<div>\n",
       "<style scoped>\n",
       "    .dataframe tbody tr th:only-of-type {\n",
       "        vertical-align: middle;\n",
       "    }\n",
       "\n",
       "    .dataframe tbody tr th {\n",
       "        vertical-align: top;\n",
       "    }\n",
       "\n",
       "    .dataframe thead th {\n",
       "        text-align: right;\n",
       "    }\n",
       "</style>\n",
       "<table border=\"1\" class=\"dataframe\">\n",
       "  <thead>\n",
       "    <tr style=\"text-align: right;\">\n",
       "      <th></th>\n",
       "      <th>skill_name</th>\n",
       "      <th>skill_group_name</th>\n",
       "    </tr>\n",
       "  </thead>\n",
       "  <tbody>\n",
       "    <tr>\n",
       "      <th>0</th>\n",
       "      <td>Java</td>\n",
       "      <td>Software Dev</td>\n",
       "    </tr>\n",
       "    <tr>\n",
       "      <th>1</th>\n",
       "      <td>.NET</td>\n",
       "      <td>Software Dev</td>\n",
       "    </tr>\n",
       "    <tr>\n",
       "      <th>2</th>\n",
       "      <td>NodeJS</td>\n",
       "      <td>Software Dev</td>\n",
       "    </tr>\n",
       "    <tr>\n",
       "      <th>3</th>\n",
       "      <td>Spark</td>\n",
       "      <td>Data</td>\n",
       "    </tr>\n",
       "    <tr>\n",
       "      <th>4</th>\n",
       "      <td>Hadoop</td>\n",
       "      <td>Data</td>\n",
       "    </tr>\n",
       "    <tr>\n",
       "      <th>5</th>\n",
       "      <td>Power BI</td>\n",
       "      <td>Data</td>\n",
       "    </tr>\n",
       "    <tr>\n",
       "      <th>6</th>\n",
       "      <td>AWS</td>\n",
       "      <td>Cloud</td>\n",
       "    </tr>\n",
       "    <tr>\n",
       "      <th>7</th>\n",
       "      <td>Azure</td>\n",
       "      <td>Cloud</td>\n",
       "    </tr>\n",
       "    <tr>\n",
       "      <th>8</th>\n",
       "      <td>GCP</td>\n",
       "      <td>Cloud</td>\n",
       "    </tr>\n",
       "  </tbody>\n",
       "</table>\n",
       "</div>"
      ],
      "text/plain": [
       "  skill_name skill_group_name\n",
       "0       Java     Software Dev\n",
       "1       .NET     Software Dev\n",
       "2     NodeJS     Software Dev\n",
       "3      Spark             Data\n",
       "4     Hadoop             Data\n",
       "5   Power BI             Data\n",
       "6        AWS            Cloud\n",
       "7      Azure            Cloud\n",
       "8        GCP            Cloud"
      ]
     },
     "execution_count": 51,
     "metadata": {},
     "output_type": "execute_result"
    }
   ],
   "source": [
    "df_skill_l3 = \\\n",
    "  pd.DataFrame.from_dict(df_skill_l3_dict, orient='index').reset_index().rename(columns={'index':'skill_name', 0:'skill_group_name'})\n",
    "df_skill_l3"
   ]
  },
  {
   "cell_type": "code",
   "execution_count": 52,
   "metadata": {},
   "outputs": [],
   "source": [
    "df_skill_l2.to_csv('../static/skills_l2.csv', index=False)\n",
    "df_skill_l3.to_csv('../static/skills_l3.csv', index=False)"
   ]
  },
  {
   "cell_type": "code",
   "execution_count": null,
   "metadata": {},
   "outputs": [],
   "source": []
  },
  {
   "cell_type": "code",
   "execution_count": 53,
   "metadata": {},
   "outputs": [],
   "source": [
    "skill_list_l2 = [v for (k, v) in df_skill_l2.to_dict('index').items()]\n",
    "skill_list_l3 = [v for (k, v) in df_skill_l3.to_dict('index').items()]\n"
   ]
  },
  {
   "cell_type": "code",
   "execution_count": 54,
   "metadata": {},
   "outputs": [],
   "source": [
    "skill_list = skill_list_l2 + skill_list_l3"
   ]
  },
  {
   "cell_type": "code",
   "execution_count": 55,
   "metadata": {},
   "outputs": [
    {
     "name": "stdout",
     "output_type": "stream",
     "text": [
      "[{'skill_name': 'Cloud', 'skill_group_name': 'None'}, {'skill_name': 'Data', 'skill_group_name': 'None'}, {'skill_name': 'Software Dev', 'skill_group_name': 'None'}, {'skill_name': 'Java', 'skill_group_name': 'Software Dev'}, {'skill_name': '.NET', 'skill_group_name': 'Software Dev'}, {'skill_name': 'NodeJS', 'skill_group_name': 'Software Dev'}, {'skill_name': 'Spark', 'skill_group_name': 'Data'}, {'skill_name': 'Hadoop', 'skill_group_name': 'Data'}, {'skill_name': 'Power BI', 'skill_group_name': 'Data'}, {'skill_name': 'AWS', 'skill_group_name': 'Cloud'}, {'skill_name': 'Azure', 'skill_group_name': 'Cloud'}, {'skill_name': 'GCP', 'skill_group_name': 'Cloud'}]\n"
     ]
    }
   ],
   "source": [
    "print(skill_list)"
   ]
  },
  {
   "cell_type": "code",
   "execution_count": 56,
   "metadata": {},
   "outputs": [],
   "source": [
    "with open(\"../static/skills.json\", \"w\") as f:\n",
    "    f.write(json.dumps(skill_list))"
   ]
  },
  {
   "cell_type": "code",
   "execution_count": null,
   "metadata": {},
   "outputs": [],
   "source": []
  },
  {
   "cell_type": "code",
   "execution_count": 57,
   "metadata": {},
   "outputs": [],
   "source": [
    "SKILL_LEVEL_CHOICES = [('1', '1 - Novice'), ('2', '2 - Beginner'), ('3', '3 - Competent'), ('4', '4 - Proficient'), ('5', '5 - Expert')]\n"
   ]
  },
  {
   "cell_type": "code",
   "execution_count": 60,
   "metadata": {},
   "outputs": [
    {
     "data": {
      "text/plain": [
       "tuple"
      ]
     },
     "execution_count": 60,
     "metadata": {},
     "output_type": "execute_result"
    }
   ],
   "source": [
    "type(SKILL_LEVEL_CHOICES[0])"
   ]
  },
  {
   "cell_type": "code",
   "execution_count": 65,
   "metadata": {},
   "outputs": [
    {
     "data": {
      "text/plain": [
       "[('Cloud', 'Cloud'), ('Data', 'Data'), ('Software Dev', 'Software Dev')]"
      ]
     },
     "execution_count": 65,
     "metadata": {},
     "output_type": "execute_result"
    }
   ],
   "source": [
    "# df_skill_l2 = pd.read_csv('../static/skills_l2.csv')\n",
    "[(s, s) for s in pd.read_csv('../static/skills_l2.csv')['skill_name']]"
   ]
  },
  {
   "cell_type": "code",
   "execution_count": 63,
   "metadata": {},
   "outputs": [
    {
     "data": {
      "text/html": [
       "<div>\n",
       "<style scoped>\n",
       "    .dataframe tbody tr th:only-of-type {\n",
       "        vertical-align: middle;\n",
       "    }\n",
       "\n",
       "    .dataframe tbody tr th {\n",
       "        vertical-align: top;\n",
       "    }\n",
       "\n",
       "    .dataframe thead th {\n",
       "        text-align: right;\n",
       "    }\n",
       "</style>\n",
       "<table border=\"1\" class=\"dataframe\">\n",
       "  <thead>\n",
       "    <tr style=\"text-align: right;\">\n",
       "      <th></th>\n",
       "      <th>skill_name</th>\n",
       "      <th>skill_group_name</th>\n",
       "    </tr>\n",
       "  </thead>\n",
       "  <tbody>\n",
       "    <tr>\n",
       "      <th>0</th>\n",
       "      <td>Cloud</td>\n",
       "      <td>None</td>\n",
       "    </tr>\n",
       "    <tr>\n",
       "      <th>1</th>\n",
       "      <td>Data</td>\n",
       "      <td>None</td>\n",
       "    </tr>\n",
       "    <tr>\n",
       "      <th>2</th>\n",
       "      <td>Software Dev</td>\n",
       "      <td>None</td>\n",
       "    </tr>\n",
       "  </tbody>\n",
       "</table>\n",
       "</div>"
      ],
      "text/plain": [
       "     skill_name skill_group_name\n",
       "0         Cloud             None\n",
       "1          Data             None\n",
       "2  Software Dev             None"
      ]
     },
     "execution_count": 63,
     "metadata": {},
     "output_type": "execute_result"
    }
   ],
   "source": []
  },
  {
   "cell_type": "code",
   "execution_count": 64,
   "metadata": {},
   "outputs": [
    {
     "data": {
      "text/plain": [
       "[('Cloud', 'Cloud'), ('Data', 'Data'), ('Software Dev', 'Software Dev')]"
      ]
     },
     "execution_count": 64,
     "metadata": {},
     "output_type": "execute_result"
    }
   ],
   "source": []
  },
  {
   "cell_type": "code",
   "execution_count": 69,
   "metadata": {},
   "outputs": [
    {
     "name": "stdout",
     "output_type": "stream",
     "text": [
      "<module 'ntpath' from 'C:\\\\Users\\\\Kai\\\\AppData\\\\Local\\\\Continuum\\\\anaconda3\\\\envs\\\\django-env\\\\lib\\\\ntpath.py'>\n"
     ]
    }
   ],
   "source": [
    "import os\n",
    "print(os.path)"
   ]
  },
  {
   "cell_type": "code",
   "execution_count": 72,
   "metadata": {},
   "outputs": [],
   "source": [
    "df_talent_records = pd.read_csv('../data/talent_info.csv')\n",
    "df_l2_l3_mapping = pd.read_csv('../data/skills_l3.csv')"
   ]
  },
  {
   "cell_type": "code",
   "execution_count": 78,
   "metadata": {},
   "outputs": [],
   "source": [
    "df_talent_records = df_talent_records.merge(df_l2_l3_mapping, how='left', left_on='skill', right_on='skill_name').drop(columns='skill_name').rename(columns={'skill_group_name':'skill_group'})"
   ]
  },
  {
   "cell_type": "code",
   "execution_count": 80,
   "metadata": {},
   "outputs": [
    {
     "data": {
      "text/html": [
       "<div>\n",
       "<style scoped>\n",
       "    .dataframe tbody tr th:only-of-type {\n",
       "        vertical-align: middle;\n",
       "    }\n",
       "\n",
       "    .dataframe tbody tr th {\n",
       "        vertical-align: top;\n",
       "    }\n",
       "\n",
       "    .dataframe thead th {\n",
       "        text-align: right;\n",
       "    }\n",
       "</style>\n",
       "<table border=\"1\" class=\"dataframe\">\n",
       "  <thead>\n",
       "    <tr style=\"text-align: right;\">\n",
       "      <th></th>\n",
       "      <th>name</th>\n",
       "      <th>orgnisation</th>\n",
       "      <th>email</th>\n",
       "      <th>skill_group</th>\n",
       "      <th>skill</th>\n",
       "      <th>skill_level</th>\n",
       "    </tr>\n",
       "  </thead>\n",
       "  <tbody>\n",
       "    <tr>\n",
       "      <th>0</th>\n",
       "      <td>Hailey Stewart</td>\n",
       "      <td>Rodriguez Inc</td>\n",
       "      <td>christinafarmer@wise.info</td>\n",
       "      <td>Software Dev</td>\n",
       "      <td>.NET</td>\n",
       "      <td>4</td>\n",
       "    </tr>\n",
       "    <tr>\n",
       "      <th>1</th>\n",
       "      <td>Paul Bailey</td>\n",
       "      <td>Lee-Gilbert</td>\n",
       "      <td>torresangela@gmail.com</td>\n",
       "      <td>Software Dev</td>\n",
       "      <td>.NET</td>\n",
       "      <td>2</td>\n",
       "    </tr>\n",
       "    <tr>\n",
       "      <th>2</th>\n",
       "      <td>Catherine Ellis</td>\n",
       "      <td>Guzman, Sampson and Johnson</td>\n",
       "      <td>jefferyrojas@hotmail.com</td>\n",
       "      <td>Data</td>\n",
       "      <td>Hadoop</td>\n",
       "      <td>1</td>\n",
       "    </tr>\n",
       "    <tr>\n",
       "      <th>3</th>\n",
       "      <td>Mary Taylor</td>\n",
       "      <td>Olson, Wagner and Herring</td>\n",
       "      <td>alec90@hotmail.com</td>\n",
       "      <td>Cloud</td>\n",
       "      <td>GCP</td>\n",
       "      <td>2</td>\n",
       "    </tr>\n",
       "    <tr>\n",
       "      <th>4</th>\n",
       "      <td>Kristine Wright</td>\n",
       "      <td>Bryan, Hendricks and Wood</td>\n",
       "      <td>inguyen@rogers.info</td>\n",
       "      <td>Software Dev</td>\n",
       "      <td>NodeJS</td>\n",
       "      <td>3</td>\n",
       "    </tr>\n",
       "    <tr>\n",
       "      <th>...</th>\n",
       "      <td>...</td>\n",
       "      <td>...</td>\n",
       "      <td>...</td>\n",
       "      <td>...</td>\n",
       "      <td>...</td>\n",
       "      <td>...</td>\n",
       "    </tr>\n",
       "    <tr>\n",
       "      <th>95</th>\n",
       "      <td>Gerald Gutierrez</td>\n",
       "      <td>Williams LLC</td>\n",
       "      <td>gilbertrichard@gmail.com</td>\n",
       "      <td>Software Dev</td>\n",
       "      <td>NodeJS</td>\n",
       "      <td>1</td>\n",
       "    </tr>\n",
       "    <tr>\n",
       "      <th>96</th>\n",
       "      <td>Ethan Davis</td>\n",
       "      <td>Randall LLC</td>\n",
       "      <td>nsmith@yahoo.com</td>\n",
       "      <td>Data</td>\n",
       "      <td>Spark</td>\n",
       "      <td>5</td>\n",
       "    </tr>\n",
       "    <tr>\n",
       "      <th>97</th>\n",
       "      <td>Jason Wheeler</td>\n",
       "      <td>Perez, Porter and King</td>\n",
       "      <td>robersonkelly@mitchell.com</td>\n",
       "      <td>Cloud</td>\n",
       "      <td>AWS</td>\n",
       "      <td>3</td>\n",
       "    </tr>\n",
       "    <tr>\n",
       "      <th>98</th>\n",
       "      <td>Christina Williamson</td>\n",
       "      <td>Gutierrez Group</td>\n",
       "      <td>marissajones@gmail.com</td>\n",
       "      <td>Data</td>\n",
       "      <td>Hadoop</td>\n",
       "      <td>2</td>\n",
       "    </tr>\n",
       "    <tr>\n",
       "      <th>99</th>\n",
       "      <td>Victoria Avila</td>\n",
       "      <td>Howard and Sons</td>\n",
       "      <td>dthompson@singh-roberts.com</td>\n",
       "      <td>Cloud</td>\n",
       "      <td>Azure</td>\n",
       "      <td>2</td>\n",
       "    </tr>\n",
       "  </tbody>\n",
       "</table>\n",
       "<p>100 rows × 6 columns</p>\n",
       "</div>"
      ],
      "text/plain": [
       "                    name                  orgnisation  \\\n",
       "0         Hailey Stewart                Rodriguez Inc   \n",
       "1            Paul Bailey                  Lee-Gilbert   \n",
       "2        Catherine Ellis  Guzman, Sampson and Johnson   \n",
       "3            Mary Taylor    Olson, Wagner and Herring   \n",
       "4        Kristine Wright    Bryan, Hendricks and Wood   \n",
       "..                   ...                          ...   \n",
       "95      Gerald Gutierrez                 Williams LLC   \n",
       "96           Ethan Davis                  Randall LLC   \n",
       "97         Jason Wheeler       Perez, Porter and King   \n",
       "98  Christina Williamson              Gutierrez Group   \n",
       "99        Victoria Avila              Howard and Sons   \n",
       "\n",
       "                          email   skill_group   skill  skill_level  \n",
       "0     christinafarmer@wise.info  Software Dev    .NET            4  \n",
       "1        torresangela@gmail.com  Software Dev    .NET            2  \n",
       "2      jefferyrojas@hotmail.com          Data  Hadoop            1  \n",
       "3            alec90@hotmail.com         Cloud     GCP            2  \n",
       "4           inguyen@rogers.info  Software Dev  NodeJS            3  \n",
       "..                          ...           ...     ...          ...  \n",
       "95     gilbertrichard@gmail.com  Software Dev  NodeJS            1  \n",
       "96             nsmith@yahoo.com          Data   Spark            5  \n",
       "97   robersonkelly@mitchell.com         Cloud     AWS            3  \n",
       "98       marissajones@gmail.com          Data  Hadoop            2  \n",
       "99  dthompson@singh-roberts.com         Cloud   Azure            2  \n",
       "\n",
       "[100 rows x 6 columns]"
      ]
     },
     "execution_count": 80,
     "metadata": {},
     "output_type": "execute_result"
    }
   ],
   "source": [
    "df_talent_records[['name', 'orgnisation', 'email', 'skill_group', 'skill', 'skill_level']]"
   ]
  },
  {
   "cell_type": "code",
   "execution_count": null,
   "metadata": {},
   "outputs": [],
   "source": []
  }
 ],
 "metadata": {
  "kernelspec": {
   "display_name": "Python 3",
   "language": "python",
   "name": "python3"
  },
  "language_info": {
   "codemirror_mode": {
    "name": "ipython",
    "version": 3
   },
   "file_extension": ".py",
   "mimetype": "text/x-python",
   "name": "python",
   "nbconvert_exporter": "python",
   "pygments_lexer": "ipython3",
   "version": "3.7.5"
  }
 },
 "nbformat": 4,
 "nbformat_minor": 4
}
